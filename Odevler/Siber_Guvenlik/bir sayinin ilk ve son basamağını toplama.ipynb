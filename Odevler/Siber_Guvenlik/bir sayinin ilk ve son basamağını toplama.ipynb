{
 "cells": [
  {
   "cell_type": "code",
   "execution_count": 10,
   "metadata": {},
   "outputs": [
    {
     "name": "stdout",
     "output_type": "stream",
     "text": [
      "girilen sayi :  7945\n",
      "İlk ve son basamaklarin toplami: 12\n"
     ]
    }
   ],
   "source": [
    "sayi = int(input(\"Bir sayi girin: \"))\n",
    "print(\"girilen sayi : \" , sayi)\n",
    "\n",
    "ilk_basamak = int(str(sayi)[0])\n",
    "\n",
    "son_basamak = int(str(sayi)[-1])\n",
    "\n",
    "toplam = ilk_basamak + son_basamak\n",
    "print(\"İlk ve son basamaklarin toplami:\", toplam)\n"
   ]
  }
 ],
 "metadata": {
  "kernelspec": {
   "display_name": "Python 3",
   "language": "python",
   "name": "python3"
  },
  "language_info": {
   "codemirror_mode": {
    "name": "ipython",
    "version": 3
   },
   "file_extension": ".py",
   "mimetype": "text/x-python",
   "name": "python",
   "nbconvert_exporter": "python",
   "pygments_lexer": "ipython3",
   "version": "3.12.0"
  },
  "orig_nbformat": 4
 },
 "nbformat": 4,
 "nbformat_minor": 2
}
