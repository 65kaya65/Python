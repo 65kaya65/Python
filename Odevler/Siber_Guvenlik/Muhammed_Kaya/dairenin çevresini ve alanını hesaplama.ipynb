{
 "cells": [
  {
   "cell_type": "code",
   "execution_count": null,
   "metadata": {},
   "outputs": [],
   "source": [
    "r = 1.5\n",
    "pi = 3.14\n",
    "\n",
    "alan = pi * (r**2)\n",
    "cevre = 2 * pi * r\n",
    "print(\"dairenin alani = \" , alan)\n",
    "print(\"dairenin cevresi = \" , cevre)"
   ]
  }
 ],
 "metadata": {
  "kernelspec": {
   "display_name": "Python 3",
   "language": "python",
   "name": "python3"
  },
  "language_info": {
   "codemirror_mode": {
    "name": "ipython",
    "version": 3
   },
   "file_extension": ".py",
   "mimetype": "text/x-python",
   "name": "python",
   "nbconvert_exporter": "python",
   "pygments_lexer": "ipython3",
   "version": "3.12.0"
  },
  "orig_nbformat": 4
 },
 "nbformat": 4,
 "nbformat_minor": 2
}
