{
 "cells": [
  {
   "cell_type": "code",
   "execution_count": 8,
   "metadata": {},
   "outputs": [
    {
     "name": "stdout",
     "output_type": "stream",
     "text": [
      "yolda geçen zaman saat cinsinden :  4 saat\n",
      "yolda geçen zaman dakika cinsinden :  4 dakika\n"
     ]
    }
   ],
   "source": [
    "yol = int(input(\"gidilecek yolu giriniz:\"))\n",
    "hiz = int(input(\"gidilecek hizi giriniz :\")) \n",
    "saat_zaman = yol//hiz \n",
    "dk_zaman = yol//hiz*60 \n",
    "print(\"yolda geçen zaman saat cinsinden : \" , saat_zaman , \"saat\")\n",
    "print(\"yolda geçen zaman dakika cinsinden : \", dk_zaman , \"dakika\")"
   ]
  }
 ],
 "metadata": {
  "kernelspec": {
   "display_name": "Python 3",
   "language": "python",
   "name": "python3"
  },
  "language_info": {
   "codemirror_mode": {
    "name": "ipython",
    "version": 3
   },
   "file_extension": ".py",
   "mimetype": "text/x-python",
   "name": "python",
   "nbconvert_exporter": "python",
   "pygments_lexer": "ipython3",
   "version": "3.12.0"
  },
  "orig_nbformat": 4
 },
 "nbformat": 4,
 "nbformat_minor": 2
}
