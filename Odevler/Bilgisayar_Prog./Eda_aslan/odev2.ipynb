x = int(input('Sayı giriniz:'))
if (x % 5) == 0 and (x % 7) == 0:
    bolum_5 = x / 5
    bolum_7 = x / 7
    print("Girdiğiniz sayı hem 5'e hem de 7'ye bölünmektedir.")
    print("Girdiğiniz sayının 5'e bölümü:", bolum_5)
    print("Girdiğiniz sayının 7'ye bölümü:", bolum_7)
elif (x % 5) == 0:
    bolum = x / 5
    print("Girdiğiniz sayı 5'e bölünmektedir. Girdiğiniz sayının 5'e bölümü:", bolum)
elif (x % 7) == 0:
    bolum = x / 7
    print("Girdiğiniz sayı 7'ye bölünmektedir. Girdiğiniz sayının 7'ye bölümü:", bolum)
else:
    print("Girdiğiniz sayı 5'e ve 7'ye bölünmez.")



x = int(input('1 ile 9 arasında bir sayı giriniz:'))
import random
num=random.randint(1,9)
if(x==num):
  print("Doğru tahmin")
else:
    print("Yanlış Tahmin")
print("üretilen sayı",num)



kelime=(input("Kelime giriniz"))
ilk_harf = kelime[0]
son_harf = kelime[-1]

if ilk_harf == son_harf:
    print("İlk harf ve son harf aynı.")
else:
    print("İlk harf ve son harf aynı değil.")




boy= float(input('Boyunuzu metre cinsinden giriniz:'))
kilo = float(input('Kilonuzu giriniz:'))
indeks=kilo/boy**2
print(f"Boy kilo indeksiniz:{indeks:.1f}")
if indeks>=30:
  print('Obez')
elif indeks>=25:
 print('Aşırı kilolu')
elif indeks>20:
 print('Normal')
else:
 print('Zayıf')
